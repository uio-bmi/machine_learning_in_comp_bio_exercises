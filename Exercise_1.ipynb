{
 "cells": [
  {
   "cell_type": "markdown",
   "id": "56e7806a-889d-4485-b293-c0cb9ad579c3",
   "metadata": {},
   "source": [
    "# Exercise 1: transcription factor binding prediction"
   ]
  },
  {
   "cell_type": "markdown",
   "id": "0f5c72bb-d638-4053-9de8-1027acc8aee6",
   "metadata": {},
   "source": [
    "In this exercise, we will train and assess the performance of machine learning models that predict if a DNA sequence contains a transcription factor binding site.\n",
    "\n",
    "Transcription factors (TFs) are proteins that bind to DNA and influence gene regulation. Predicting if they will bind or not could help us understand the biology better and allow us to preding binding for new DNA sequences which were not experimentally analyzed."
   ]
  },
  {
   "cell_type": "markdown",
   "id": "85c2cc52-58a8-4336-84a6-5aca384e91d1",
   "metadata": {},
   "source": [
    "## Data\n",
    "\n",
    "We will use a dataset for transcription factors USF1. The data consists of sequences and a label for each sequence (1 - TF will bind to the sequence, 0 - it will not bind).\n",
    "\n",
    "The data are located under `data` folder in this repository."
   ]
  },
  {
   "cell_type": "markdown",
   "id": "44fa7954-688a-4397-b58a-a1959601b351",
   "metadata": {},
   "source": [
    "## Import necessary libraries and functions"
   ]
  },
  {
   "cell_type": "code",
   "execution_count": null,
   "id": "5b69b27e",
   "metadata": {},
   "outputs": [],
   "source": [
    "# run if on google colab to get all the files from github\n",
    "#\n",
    "# !git clone https://github.com/uio-bmi/machine_learning_in_comp_bio_exercises.git\n",
    "# !mv ./machine_learning_in_comp_bio_exercises/{.,}* ./\n",
    "# !rm -r ./machine_learning_in_comp_bio_exercises"
   ]
  },
  {
   "cell_type": "code",
   "execution_count": null,
   "id": "7a484e74-0cb7-4cf4-b4d0-a1983227bb21",
   "metadata": {},
   "outputs": [],
   "source": [
    "from scripts.util import load_data_exercise_1, encode_kmer, print_dataset_info, train_logistic_regression, assess_model, make_folder, in_notebook\n",
    "\n",
    "%load_ext autoreload\n",
    "%autoreload 2"
   ]
  },
  {
   "cell_type": "code",
   "execution_count": null,
   "id": "7e7b1c4f-db27-4591-9781-4ed919a46ea3",
   "metadata": {},
   "outputs": [],
   "source": [
    "# define where to store the result\n",
    "\n",
    "result_path = \"./exercise_1_output_usf1/\"\n",
    "make_folder(result_path)"
   ]
  },
  {
   "cell_type": "markdown",
   "id": "756cd99c-4f89-4deb-9c8d-1003c747c9ff",
   "metadata": {},
   "source": [
    "## Load the data and print basic information"
   ]
  },
  {
   "cell_type": "code",
   "execution_count": null,
   "id": "71e9ec18-12cd-445d-b0d9-5b77453ff0ac",
   "metadata": {},
   "outputs": [],
   "source": [
    "dataset = load_data_exercise_1()\n",
    "\n",
    "print_dataset_info(dataset)"
   ]
  },
  {
   "cell_type": "code",
   "execution_count": null,
   "id": "343723bf",
   "metadata": {},
   "outputs": [],
   "source": [
    "# split the data to training and testing\n",
    "\n",
    "train_dataset, test_dataset = dataset.head(400), dataset.tail(100)\n",
    "\n",
    "print_dataset_info(train_dataset, test_dataset)"
   ]
  },
  {
   "cell_type": "markdown",
   "id": "1314e5d7-b3c3-4a5f-b3b1-35b1b4d34f96",
   "metadata": {},
   "source": [
    "## Encode the data as k-mer frequencies"
   ]
  },
  {
   "cell_type": "code",
   "execution_count": null,
   "id": "d620b531-55e7-4b8a-8132-36ea83787da8",
   "metadata": {
    "scrolled": false
   },
   "outputs": [],
   "source": [
    "# define the parameters\n",
    "\n",
    "k = 5\n",
    "\n",
    "# encode the data\n",
    "\n",
    "encoded_train, train_labels, feature_names = encode_kmer(k, train_dataset, learn_model=True, path=result_path)\n",
    "\n",
    "encoded_test, test_labels, _ = encode_kmer(k, test_dataset, learn_model=False, path=result_path)\n"
   ]
  },
  {
   "cell_type": "markdown",
   "id": "5c1b942d",
   "metadata": {},
   "source": [
    "Look into the plots showing average k-mer frequencies in positive vs negative examples: are there any differences? \n"
   ]
  },
  {
   "cell_type": "markdown",
   "id": "03e98815-8f3b-46aa-a491-ee699b282e64",
   "metadata": {},
   "source": [
    "## Train logistic regression\n",
    "\n",
    "In this step, run the following code and try to answer the questions:\n",
    "        \n",
    "- How good is our classifier? \n",
    "- What can we see from the confusion matrix?"
   ]
  },
  {
   "cell_type": "code",
   "execution_count": null,
   "id": "c149689a-4032-42d3-be35-ccd93de4e3a8",
   "metadata": {
    "scrolled": false
   },
   "outputs": [],
   "source": [
    "\n",
    "logistic_regression = train_logistic_regression(encoded_train, train_labels, C=1)\n",
    "\n",
    "assess_model(logistic_regression, encoded_train, train_labels, encoded_test, test_labels, feature_names, result_path)\n"
   ]
  },
  {
   "cell_type": "markdown",
   "id": "5c7da740",
   "metadata": {},
   "source": [
    "Look into the last plot showing the largest model coefficients. \n",
    "    \n",
    "- What does this mean for our model? \n",
    "- What k-mers is it detecting? \n",
    "- Can we interpret this somehow?"
   ]
  },
  {
   "cell_type": "markdown",
   "id": "8e4b86dc",
   "metadata": {},
   "source": [
    "### Question:\n",
    "\n",
    "How long subsequence should be to discover the motifs? What is the length of k that is best? How to try with different k?"
   ]
  }
 ],
 "metadata": {
  "kernelspec": {
   "display_name": "Python 3 (ipykernel)",
   "language": "python",
   "name": "python3"
  },
  "language_info": {
   "codemirror_mode": {
    "name": "ipython",
    "version": 3
   },
   "file_extension": ".py",
   "mimetype": "text/x-python",
   "name": "python",
   "nbconvert_exporter": "python",
   "pygments_lexer": "ipython3",
   "version": "3.8.3"
  },
  "varInspector": {
   "cols": {
    "lenName": 16,
    "lenType": 16,
    "lenVar": 40
   },
   "kernels_config": {
    "python": {
     "delete_cmd_postfix": "",
     "delete_cmd_prefix": "del ",
     "library": "var_list.py",
     "varRefreshCmd": "print(var_dic_list())"
    },
    "r": {
     "delete_cmd_postfix": ") ",
     "delete_cmd_prefix": "rm(",
     "library": "var_list.r",
     "varRefreshCmd": "cat(var_dic_list()) "
    }
   },
   "types_to_exclude": [
    "module",
    "function",
    "builtin_function_or_method",
    "instance",
    "_Feature"
   ],
   "window_display": false
  }
 },
 "nbformat": 4,
 "nbformat_minor": 5
}